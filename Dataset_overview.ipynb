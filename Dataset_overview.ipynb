{
 "cells": [
  {
   "cell_type": "code",
   "execution_count": 2,
   "metadata": {},
   "outputs": [],
   "source": [
    "import pandas as pd\n",
    "\n",
    "df = pd.read_csv('main.csv')"
   ]
  },
  {
   "cell_type": "markdown",
   "metadata": {},
   "source": [
    "# Data Quality Assessment"
   ]
  },
  {
   "cell_type": "code",
   "execution_count": 3,
   "metadata": {},
   "outputs": [
    {
     "name": "stdout",
     "output_type": "stream",
     "text": [
      "<class 'pandas.core.frame.DataFrame'>\n",
      "RangeIndex: 5000 entries, 0 to 4999\n",
      "Data columns (total 5 columns):\n",
      " #   Column               Non-Null Count  Dtype \n",
      "---  ------               --------------  ----- \n",
      " 0   route_id             5000 non-null   object\n",
      " 1   status               5000 non-null   object\n",
      " 2   cancellation_reason  3557 non-null   object\n",
      " 3   decline_reason       1531 non-null   object\n",
      " 4   operator_name        5000 non-null   object\n",
      "dtypes: object(5)\n",
      "memory usage: 195.4+ KB\n"
     ]
    }
   ],
   "source": [
    "# create new dataframe with relevant columns\n",
    "cols = ['route_id','status','cancellation_reason','decline_reason','operator_name']\n",
    "df = df[cols]\n",
    "df.info()"
   ]
  },
  {
   "cell_type": "code",
   "execution_count": 4,
   "metadata": {},
   "outputs": [
    {
     "data": {
      "text/html": [
       "<div>\n",
       "<style scoped>\n",
       "    .dataframe tbody tr th:only-of-type {\n",
       "        vertical-align: middle;\n",
       "    }\n",
       "\n",
       "    .dataframe tbody tr th {\n",
       "        vertical-align: top;\n",
       "    }\n",
       "\n",
       "    .dataframe thead th {\n",
       "        text-align: right;\n",
       "    }\n",
       "</style>\n",
       "<table border=\"1\" class=\"dataframe\">\n",
       "  <thead>\n",
       "    <tr style=\"text-align: right;\">\n",
       "      <th></th>\n",
       "      <th>route_id</th>\n",
       "      <th>status</th>\n",
       "      <th>cancellation_reason</th>\n",
       "      <th>decline_reason</th>\n",
       "      <th>operator_name</th>\n",
       "    </tr>\n",
       "  </thead>\n",
       "  <tbody>\n",
       "    <tr>\n",
       "      <th>2308</th>\n",
       "      <td>guatemala-city-to-antigua</td>\n",
       "      <td>canceled</td>\n",
       "      <td>NaN</td>\n",
       "      <td>other</td>\n",
       "      <td>GuateGo</td>\n",
       "    </tr>\n",
       "    <tr>\n",
       "      <th>1829</th>\n",
       "      <td>split-to-hvar</td>\n",
       "      <td>canceled</td>\n",
       "      <td>online cancel - Booking error (wrong date, dep...</td>\n",
       "      <td>NaN</td>\n",
       "      <td>Krilo (Kapetan Luka)</td>\n",
       "    </tr>\n",
       "    <tr>\n",
       "      <th>1936</th>\n",
       "      <td>foz-do-iguacu-to-puerto-iguazu</td>\n",
       "      <td>canceled</td>\n",
       "      <td>NaN</td>\n",
       "      <td>other</td>\n",
       "      <td>Caracol Internacional</td>\n",
       "    </tr>\n",
       "    <tr>\n",
       "      <th>2850</th>\n",
       "      <td>calama-to-uyuni</td>\n",
       "      <td>canceled</td>\n",
       "      <td>online cancel - My plans changed</td>\n",
       "      <td>NaN</td>\n",
       "      <td>Cruz del Norte</td>\n",
       "    </tr>\n",
       "    <tr>\n",
       "      <th>1983</th>\n",
       "      <td>ha-tien-to-ho-chi-minh-city-saigon</td>\n",
       "      <td>canceled</td>\n",
       "      <td>online cancel - Booking error (wrong date, dep...</td>\n",
       "      <td>NaN</td>\n",
       "      <td>Futa Bus</td>\n",
       "    </tr>\n",
       "  </tbody>\n",
       "</table>\n",
       "</div>"
      ],
      "text/plain": [
       "                                route_id    status  \\\n",
       "2308           guatemala-city-to-antigua  canceled   \n",
       "1829                       split-to-hvar  canceled   \n",
       "1936      foz-do-iguacu-to-puerto-iguazu  canceled   \n",
       "2850                     calama-to-uyuni  canceled   \n",
       "1983  ha-tien-to-ho-chi-minh-city-saigon  canceled   \n",
       "\n",
       "                                    cancellation_reason decline_reason  \\\n",
       "2308                                                NaN          other   \n",
       "1829  online cancel - Booking error (wrong date, dep...            NaN   \n",
       "1936                                                NaN          other   \n",
       "2850                   online cancel - My plans changed            NaN   \n",
       "1983  online cancel - Booking error (wrong date, dep...            NaN   \n",
       "\n",
       "              operator_name  \n",
       "2308                GuateGo  \n",
       "1829   Krilo (Kapetan Luka)  \n",
       "1936  Caracol Internacional  \n",
       "2850         Cruz del Norte  \n",
       "1983               Futa Bus  "
      ]
     },
     "execution_count": 4,
     "metadata": {},
     "output_type": "execute_result"
    }
   ],
   "source": [
    "df.sample(5)"
   ]
  },
  {
   "cell_type": "code",
   "execution_count": 5,
   "metadata": {},
   "outputs": [
    {
     "data": {
      "text/html": [
       "<div>\n",
       "<style scoped>\n",
       "    .dataframe tbody tr th:only-of-type {\n",
       "        vertical-align: middle;\n",
       "    }\n",
       "\n",
       "    .dataframe tbody tr th {\n",
       "        vertical-align: top;\n",
       "    }\n",
       "\n",
       "    .dataframe thead th {\n",
       "        text-align: right;\n",
       "    }\n",
       "</style>\n",
       "<table border=\"1\" class=\"dataframe\">\n",
       "  <thead>\n",
       "    <tr style=\"text-align: right;\">\n",
       "      <th></th>\n",
       "      <th>route_id</th>\n",
       "      <th>status</th>\n",
       "      <th>cancellation_reason</th>\n",
       "      <th>decline_reason</th>\n",
       "      <th>operator_name</th>\n",
       "    </tr>\n",
       "  </thead>\n",
       "  <tbody>\n",
       "    <tr>\n",
       "      <th>count</th>\n",
       "      <td>5000</td>\n",
       "      <td>5000</td>\n",
       "      <td>3557</td>\n",
       "      <td>1531</td>\n",
       "      <td>5000</td>\n",
       "    </tr>\n",
       "    <tr>\n",
       "      <th>unique</th>\n",
       "      <td>1168</td>\n",
       "      <td>4</td>\n",
       "      <td>317</td>\n",
       "      <td>13</td>\n",
       "      <td>586</td>\n",
       "    </tr>\n",
       "    <tr>\n",
       "      <th>top</th>\n",
       "      <td>split-to-hvar</td>\n",
       "      <td>canceled</td>\n",
       "      <td>online cancel - My plans changed</td>\n",
       "      <td>fully_booked</td>\n",
       "      <td>Krilo (Kapetan Luka)</td>\n",
       "    </tr>\n",
       "    <tr>\n",
       "      <th>freq</th>\n",
       "      <td>120</td>\n",
       "      <td>4509</td>\n",
       "      <td>1503</td>\n",
       "      <td>638</td>\n",
       "      <td>403</td>\n",
       "    </tr>\n",
       "  </tbody>\n",
       "</table>\n",
       "</div>"
      ],
      "text/plain": [
       "             route_id    status               cancellation_reason  \\\n",
       "count            5000      5000                              3557   \n",
       "unique           1168         4                               317   \n",
       "top     split-to-hvar  canceled  online cancel - My plans changed   \n",
       "freq              120      4509                              1503   \n",
       "\n",
       "       decline_reason         operator_name  \n",
       "count            1531                  5000  \n",
       "unique             13                   586  \n",
       "top      fully_booked  Krilo (Kapetan Luka)  \n",
       "freq              638                   403  "
      ]
     },
     "execution_count": 5,
     "metadata": {},
     "output_type": "execute_result"
    }
   ],
   "source": [
    "# describe all columns\n",
    "df.describe(include='all')"
   ]
  },
  {
   "cell_type": "code",
   "execution_count": 6,
   "metadata": {},
   "outputs": [
    {
     "data": {
      "text/plain": [
       "route_id                  0\n",
       "status                    0\n",
       "cancellation_reason    1443\n",
       "decline_reason         3469\n",
       "operator_name             0\n",
       "dtype: int64"
      ]
     },
     "execution_count": 6,
     "metadata": {},
     "output_type": "execute_result"
    }
   ],
   "source": [
    "# Explore missing values for relevant columns\n",
    "df.isnull().sum()"
   ]
  },
  {
   "cell_type": "code",
   "execution_count": 8,
   "metadata": {},
   "outputs": [
    {
     "name": "stdout",
     "output_type": "stream",
     "text": [
      "route_id                  0\n",
      "status                    0\n",
      "cancellation_reason    1084\n",
      "decline_reason         3337\n",
      "operator_name             0\n",
      "dtype: int64\n",
      "Number of canceled applications: 4509\n",
      "Number of canceled applications with decline reason: 1172\n",
      "Number of canceled applications with cancel reason: 3425\n"
     ]
    },
    {
     "data": {
      "text/plain": [
       "decline_reason\n",
       "fully_booked                     584\n",
       "other                            152\n",
       "pickup_location_not_supported     96\n",
       "departure_does_not_exists         79\n",
       "departure_cancelled               56\n",
       "rate_difference                   41\n",
       "missing_info_from_client          37\n",
       "not_approved_on_time              36\n",
       "not_enough_passengers             28\n",
       "schedule_is_not_open_yet          26\n",
       "supplier_unresponsive             18\n",
       "out_of_credit                     15\n",
       "double_booking                     4\n",
       "Name: count, dtype: int64"
      ]
     },
     "execution_count": 8,
     "metadata": {},
     "output_type": "execute_result"
    }
   ],
   "source": [
    "\n",
    "# filter where decline_reason is not nan\n",
    "df_canceled = df[df['status'] == 'canceled']\n",
    "print(df_canceled.isnull().sum())\n",
    "print(f'Number of canceled applications: {df_canceled.shape[0]}')\n",
    "# count when declined_reason is not na\n",
    "print(f'Number of canceled applications with decline reason: {df_canceled[\"decline_reason\"].count()}')\n",
    "# count when cancelled_reason is not na\n",
    "print(f'Number of canceled applications with cancel reason: {df_canceled[\"cancellation_reason\"].count()}')\n",
    "# explore decline_reason for canceled applications\n",
    "df_canceled['decline_reason'].value_counts()"
   ]
  },
  {
   "cell_type": "code",
   "execution_count": 42,
   "metadata": {},
   "outputs": [
    {
     "name": "stdout",
     "output_type": "stream",
     "text": [
      "Number of rows where cancellation_reason and decline_reason are not na: 88\n"
     ]
    },
    {
     "data": {
      "text/plain": [
       "status\n",
       "canceled    88\n",
       "Name: count, dtype: int64"
      ]
     },
     "execution_count": 42,
     "metadata": {},
     "output_type": "execute_result"
    }
   ],
   "source": [
    "# count rows where both cancellation_reason and decline_reason are not na\n",
    "df_both_specified = df[(df['cancellation_reason'].notna()) & (df['decline_reason'].notna())]\n",
    "print(f'Number of rows where cancellation_reason and decline_reason are not na: {df_both_specified.shape[0]}')\n",
    "df_both_specified.value_counts('status')"
   ]
  },
  {
   "cell_type": "markdown",
   "metadata": {},
   "source": [
    "Inconsistencies in bookings where status is canceled\n",
    "* 1172 bookings where status is cancelled \n",
    "* 88 bookings where cancellation reason and decline reason are both specified. \n",
    "* All of those have canceled status"
   ]
  },
  {
   "cell_type": "code",
   "execution_count": 86,
   "metadata": {},
   "outputs": [
    {
     "name": "stdout",
     "output_type": "stream",
     "text": [
      "Number of approved applications:  468\n",
      "NUmber of approved rows where the cancellation_reason is not null:  132\n",
      "NUmber of approved rows where the decline_reason is not null:  336\n"
     ]
    }
   ],
   "source": [
    "df_approved = df[df['status'] == 'approved']\n",
    "df_approved.shape[0]\n",
    "df_approved.value_counts('decline_reason')\n",
    "df_approved.value_counts('cancellation_reason')\n",
    "\n",
    "print('Number of approved applications: ', df_approved.shape[0])\n",
    "print('NUmber of approved rows where the cancellation_reason is not null: ', df_approved[df_approved['cancellation_reason'].notnull()].shape[0])\n",
    "print('NUmber of approved rows where the decline_reason is not null: ', df_approved[df_approved['decline_reason'].notnull()].shape[0])"
   ]
  },
  {
   "cell_type": "markdown",
   "metadata": {},
   "source": [
    "Inconsistencies in bookings where status is canceled\n",
    "* 468 bookings where status is approved \n",
    "* 132 of these  have cancellation reason\n",
    "* 336 of these have decline_reason\n",
    "* All of the approved bookings have cancellation reason or decline reason"
   ]
  },
  {
   "cell_type": "code",
   "execution_count": 76,
   "metadata": {},
   "outputs": [
    {
     "data": {
      "text/plain": [
       "decline_reason\n",
       "pickup_location_not_supported    77\n",
       "missing_info_from_client         71\n",
       "fully_booked                     46\n",
       "other                            40\n",
       "rate_difference                  40\n",
       "departure_does_not_exists        38\n",
       "departure_cancelled              15\n",
       "schedule_is_not_open_yet          4\n",
       "not_enough_passengers             2\n",
       "double_booking                    1\n",
       "not_approved_on_time              1\n",
       "out_of_credit                     1\n",
       "Name: count, dtype: int64"
      ]
     },
     "execution_count": 76,
     "metadata": {},
     "output_type": "execute_result"
    }
   ],
   "source": [
    "df_approved.value_counts('decline_reason')"
   ]
  },
  {
   "cell_type": "code",
   "execution_count": 84,
   "metadata": {},
   "outputs": [
    {
     "name": "stdout",
     "output_type": "stream",
     "text": [
      "Declined applications where cancellation_reason is not null 0\n"
     ]
    }
   ],
   "source": [
    "df_declined = df[df['status'] == 'declined']\n",
    "# count cancellation_reasons not null\n",
    "print(f\"Declined applications where \\\n",
    "cancellation_reason is not null \\\n",
    "{df_declined['cancellation_reason'].count()}\")"
   ]
  },
  {
   "cell_type": "markdown",
   "metadata": {},
   "source": [
    "*  Declined applications seem to be consistent"
   ]
  },
  {
   "cell_type": "code",
   "execution_count": null,
   "metadata": {},
   "outputs": [],
   "source": []
  }
 ],
 "metadata": {
  "kernelspec": {
   "display_name": "venv",
   "language": "python",
   "name": "python3"
  },
  "language_info": {
   "codemirror_mode": {
    "name": "ipython",
    "version": 3
   },
   "file_extension": ".py",
   "mimetype": "text/x-python",
   "name": "python",
   "nbconvert_exporter": "python",
   "pygments_lexer": "ipython3",
   "version": "3.11.4"
  },
  "orig_nbformat": 4
 },
 "nbformat": 4,
 "nbformat_minor": 2
}
